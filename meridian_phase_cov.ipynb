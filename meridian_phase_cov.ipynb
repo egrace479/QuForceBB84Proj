{
 "cells": [
  {
   "cell_type": "code",
   "execution_count": 1,
   "id": "9157bf11-d7dd-478d-8ef7-f1e5b0822548",
   "metadata": {},
   "outputs": [],
   "source": [
    "# from qiskit import *\n",
    "# Importing standard Qiskit libraries\n",
    "from qiskit import QuantumCircuit, QuantumRegister, ClassicalRegister\n",
    "from qiskit import Aer, execute, assemble\n",
    "from qiskit.visualization import plot_histogram, plot_bloch_vector\n",
    "from qiskit.visualization import plot_state_qsphere, plot_state_city, plot_bloch_multivector\n",
    "from qiskit.visualization import array_to_latex\n",
    "\n",
    "# numpy for linear algebra stuff\n",
    "from numpy.random import randint, shuffle\n",
    "import numpy as np\n",
    "import matplotlib.pyplot as plt\n",
    "\n",
    "# To supress the deprecation warnings\n",
    "import warnings\n",
    "import matplotlib.cbook\n",
    "warnings.filterwarnings(\"ignore\",category=matplotlib.cbook.mplDeprecation)\n",
    "#%run utility_functions.ipynb"
   ]
  },
  {
   "cell_type": "code",
   "execution_count": 2,
   "id": "5356869e-e7d9-4a3c-ac30-60565cb8b719",
   "metadata": {},
   "outputs": [],
   "source": [
    "def Theta2(theta1):\n",
    "    if theta1 <= np.pi/4:\n",
    "        theta2 = 0.5 * np.arccos(np.cos(2*theta1)/np.sin(2*theta1))\n",
    "    if theta1 > np.pi/4:\n",
    "        theta2 = 0.5 * np.arccos(-np.cos(2*theta1)/np.sin(2*theta1))\n",
    "    \n",
    "    return theta2"
   ]
  },
  {
   "cell_type": "code",
   "execution_count": 3,
   "id": "10ee4a69-9a15-4bd5-83b8-d2fef0c55709",
   "metadata": {},
   "outputs": [],
   "source": [
    "def theta_maker(theta1):\n",
    "    if (theta1 == np.pi/8) or (theta1 == 3*np.pi/8):\n",
    "        theta2 = 0\n",
    "        theta3 = 0\n",
    "        return np.array([theta1, theta2, theta3])\n",
    "    \n",
    "    \n",
    "    etaA = np.sin(2 * theta1)\n",
    "    theta2 = Theta2(theta1)\n",
    "    theta3 = np.arctan(np.tan(theta1) * np.tan(theta2))\n",
    "    theta = np.array([theta1, theta2, theta3])\n",
    "    return theta"
   ]
  },
  {
   "cell_type": "code",
   "execution_count": 4,
   "id": "30573d66-f5e9-483b-a65f-d80a15de2baa",
   "metadata": {},
   "outputs": [],
   "source": [
    "# this is a function that implements the cloning that Eve uses\n",
    "def EveClones(qc, theta1):\n",
    "    # determine optimizing angles\n",
    "    theta = theta_maker(theta1)\n",
    "    \n",
    "    # prepare to clone \n",
    "    qc.u(2*theta[0], 0, 0, 1)\n",
    "    qc.cx(1,2)\n",
    "    qc.u(2*theta[1], 0, 0, 2)\n",
    "    qc.cx(2,1)\n",
    "    qc.u(2*theta[2], 0, 0, 1)\n",
    "    \n",
    "    # execute the cloning component with the input qubit (the 0 qubit here)\n",
    "    qc.cx(0,1)\n",
    "    qc.cx(0,2)\n",
    "    qc.cx(1,0)\n",
    "    qc.cx(2,0)\n",
    "    \n",
    "    qc.barrier()\n",
    "    \n",
    "    return qc"
   ]
  },
  {
   "cell_type": "code",
   "execution_count": 6,
   "id": "49aca869-8651-44c9-808a-94aac740d8b3",
   "metadata": {},
   "outputs": [],
   "source": [
    "def Phase_Measurements(theta, lam, theta1):\n",
    "    qc = QuantumCircuit(3,2)\n",
    "    \n",
    "    # prepare the 0-qubit\n",
    "    qc.u(theta, 0, lam, 0)\n",
    "    #qc.h(0)\n",
    "    \n",
    "    qc.barrier()\n",
    "\n",
    "    # Eve prepares her clones\n",
    "    EveClones(qc,theta1)\n",
    "\n",
    "    \n",
    "    qc.u(-theta, -lam, 0, 0)\n",
    "    qc.measure(0,0)\n",
    "    qc.barrier()\n",
    "\n",
    "    qc.u(-theta, -lam, 0, 1)\n",
    "    qc.measure(1,1)\n",
    "\n",
    "    shots = 10000 # number of samples used for statistics\n",
    "    sim = Aer.get_backend('qasm_simulator')\n",
    "    job = execute(qc, backend = sim, shots = shots)\n",
    "    \n",
    "    out00 = job.result().get_counts().get(\"00\")\n",
    "    out01 = job.result().get_counts().get(\"01\")\n",
    "    out10 = job.result().get_counts().get(\"10\")\n",
    "    out11 = job.result().get_counts().get(\"11\")\n",
    "    \n",
    "    if out00 == None:\n",
    "        out00 = 0\n",
    "    if out01 == None:\n",
    "        out01 = 0\n",
    "    if out10 == None:\n",
    "        out10 = 0\n",
    "    if out11 == None:\n",
    "        out11 = 0\n",
    "        \n",
    "    Fid_Bob = (out00 + out10)/shots\n",
    "    Fid_Eve = (out00 + out01)/shots\n",
    "    \n",
    "    return Fid_Bob, Fid_Eve"
   ]
  },
  {
   "cell_type": "code",
   "execution_count": 7,
   "id": "e7e28eb4-4fe1-43d5-9636-d8c31fa6cdba",
   "metadata": {},
   "outputs": [
    {
     "name": "stdout",
     "output_type": "stream",
     "text": [
      "0.9885 0.5958\n"
     ]
    }
   ],
   "source": [
    "B,E = Phase_Measurements(np.pi/2, 0, np.pi/4 - 0.1)\n",
    "print(B,E)"
   ]
  },
  {
   "cell_type": "code",
   "execution_count": 15,
   "id": "23101bce-0cb5-415f-ba9f-81791ef9f209",
   "metadata": {},
   "outputs": [],
   "source": [
    "Theta = np.linspace(0,np.pi, 100)\n",
    "Bs = np.zeros(len(Theta))\n",
    "Es = np.zeros(len(Theta))\n",
    "\n",
    "for j in range(len(Theta)):\n",
    "    Bs[j], Es[j] = Phase_Measurements(Theta[j], 0, np.pi/8 +0.01)"
   ]
  },
  {
   "cell_type": "code",
   "execution_count": 20,
   "id": "3d4ce048-ce81-4f08-b82f-3b95b35eb4af",
   "metadata": {},
   "outputs": [
    {
     "data": {
      "image/png": "[encoded data removed]",
      "text/plain": [
       "<Figure size 432x288 with 1 Axes>"
      ]
     },
     "metadata": {
      "needs_background": "light"
     },
     "output_type": "display_data"
    }
   ],
   "source": [
    "plt.figure()\n",
    "plt.plot(Theta, Bs)\n",
    "plt.plot(Theta, Es)\n",
    "plt.ylim([0,1])\n",
    "plt.show()"
   ]
  },
  {
   "cell_type": "markdown",
   "id": "b64d09b6-5fc6-489f-bba0-65debe1d3f6d",
   "metadata": {},
   "source": [
    "**Summary.** The purpose of this notebook was to see what happens to the cloning fidelity at various levels on the Bloch sphere. When we test for high"
   ]
  },
  {
   "cell_type": "code",
   "execution_count": 17,
   "id": "5c92a970-7364-4635-a1a3-abdd44e11929",
   "metadata": {},
   "outputs": [],
   "source": [
    "Lambda = np.linspace(0, 2*np.pi, 100)\n",
    "BLs = np.zeros(len(Lambda))\n",
    "ELs = np.zeros(len(Lambda))\n",
    "\n",
    "for j in range(len(Lambda)):\n",
    "    BLs[j], ELs[j] = Phase_Measurements(np.pi/2, Lambda[j], np.pi/8 + 0.01)"
   ]
  },
  {
   "cell_type": "code",
   "execution_count": 19,
   "id": "14da7a8a-cf94-4158-b71d-14980970faf3",
   "metadata": {},
   "outputs": [
    {
     "data": {
      "image/png": "[encoded data removed]",
      "text/plain": [
       "<Figure size 432x288 with 1 Axes>"
      ]
     },
     "metadata": {
      "needs_background": "light"
     },
     "output_type": "display_data"
    }
   ],
   "source": [
    "plt.figure()\n",
    "plt.plot(Lambda, BLs)\n",
    "plt.plot(Lambda, ELs)\n",
    "plt.ylim([0,1])\n",
    "plt.show()"
   ]
  },
  {
   "cell_type": "code",
   "execution_count": null,
   "id": "1ab12ae4-ae6f-47f6-96b0-9cb628d8a270",
   "metadata": {},
   "outputs": [],
   "source": []
  }
 ],
 "metadata": {
  "kernelspec": {
   "display_name": "Python 3 (ipykernel)",
   "language": "python",
   "name": "python3"
  },
  "language_info": {
   "codemirror_mode": {
    "name": "ipython",
    "version": 3
   },
   "file_extension": ".py",
   "mimetype": "text/x-python",
   "name": "python",
   "nbconvert_exporter": "python",
   "pygments_lexer": "ipython3",
   "version": "3.8.12"
  }
 },
 "nbformat": 4,
 "nbformat_minor": 5
}
