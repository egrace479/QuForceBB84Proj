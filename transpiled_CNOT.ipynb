{
 "cells": [
  {
   "cell_type": "code",
   "execution_count": 1,
   "id": "7363204e-4ac3-4eaf-8e71-a9c860db13f8",
   "metadata": {},
   "outputs": [],
   "source": [
    "# from qiskit import *\n",
    "# Importing standard Qiskit libraries\n",
    "from qiskit import QuantumCircuit, QuantumRegister, ClassicalRegister\n",
    "from qiskit import Aer, execute, assemble\n",
    "from qiskit.visualization import plot_histogram, plot_bloch_vector\n",
    "from qiskit.visualization import plot_state_qsphere, plot_state_city, plot_bloch_multivector\n",
    "from qiskit.visualization import array_to_latex\n",
    "import qiskit.quantum_info as qi\n",
    "\n",
    "# numpy for linear algebra stuff\n",
    "from numpy.random import randint, shuffle\n",
    "import numpy as np\n",
    "import matplotlib.pyplot as plt\n",
    "\n",
    "# To supress the deprecation warnings\n",
    "import warnings\n",
    "import matplotlib.cbook\n",
    "warnings.filterwarnings(\"ignore\",category=matplotlib.cbook.mplDeprecation)\n",
    "#%run utility_functions.ipynb"
   ]
  },
  {
   "cell_type": "code",
   "execution_count": 2,
   "id": "a8162c69-042c-4397-952f-c9046e602a9d",
   "metadata": {},
   "outputs": [],
   "source": [
    "qc = QuantumCircuit(2,2)"
   ]
  },
  {
   "cell_type": "code",
   "execution_count": 3,
   "id": "e660fd40-9e14-4d2b-91f4-d1a39cbd7249",
   "metadata": {},
   "outputs": [
    {
     "data": {
      "text/html": [
       "<pre style=\"word-wrap: normal;white-space: pre;background: #fff0;line-height: 1.1;font-family: &quot;Courier New&quot;,Courier,monospace\">     ┌─────────┐┌───────────┐┌──────────┐┌──────────┐ ░ \n",
       "q_0: ┤ Ry(π/2) ├┤0          ├┤ Rx(-π/2) ├┤ Ry(-π/2) ├─░─\n",
       "     └─────────┘│  Rxx(π/2) │├──────────┤└──────────┘ ░ \n",
       "q_1: ───────────┤1          ├┤ Rx(-π/2) ├─────────────░─\n",
       "                └───────────┘└──────────┘             ░ \n",
       "c: 2/═══════════════════════════════════════════════════\n",
       "                                                        </pre>"
      ],
      "text/plain": [
       "     ┌─────────┐┌───────────┐┌──────────┐┌──────────┐ ░ \n",
       "q_0: ┤ Ry(π/2) ├┤0          ├┤ Rx(-π/2) ├┤ Ry(-π/2) ├─░─\n",
       "     └─────────┘│  Rxx(π/2) │├──────────┤└──────────┘ ░ \n",
       "q_1: ───────────┤1          ├┤ Rx(-π/2) ├─────────────░─\n",
       "                └───────────┘└──────────┘             ░ \n",
       "c: 2/═══════════════════════════════════════════════════\n",
       "                                                        "
      ]
     },
     "execution_count": 3,
     "metadata": {},
     "output_type": "execute_result"
    }
   ],
   "source": [
    "qc.ry(np.pi/2,0)\n",
    "qc.rxx(np.pi/2,0,1)\n",
    "qc.rx(-np.pi/2,0)\n",
    "qc.rx(-np.pi/2,1)\n",
    "qc.ry(-np.pi/2,0)\n",
    "qc.barrier()\n",
    "qc.draw()"
   ]
  },
  {
   "cell_type": "code",
   "execution_count": 4,
   "id": "695b9ee4-2ac3-4008-bb36-24ab77b838c3",
   "metadata": {},
   "outputs": [
    {
     "data": {
      "text/plain": [
       "<qiskit.circuit.instructionset.InstructionSet at 0x7f254c55afc0>"
      ]
     },
     "execution_count": 4,
     "metadata": {},
     "output_type": "execute_result"
    }
   ],
   "source": [
    "qc.measure(0,0)\n",
    "qc.measure(1,1)"
   ]
  },
  {
   "cell_type": "code",
   "execution_count": 5,
   "id": "a01c5676-986b-476f-b3ab-35f5c55e7b01",
   "metadata": {},
   "outputs": [
    {
     "data": {
      "text/html": [
       "<pre style=\"word-wrap: normal;white-space: pre;background: #fff0;line-height: 1.1;font-family: &quot;Courier New&quot;,Courier,monospace\">     ┌─────────┐┌───────────┐┌──────────┐┌──────────┐ ░ ┌─┐   \n",
       "q_0: ┤ Ry(π/2) ├┤0          ├┤ Rx(-π/2) ├┤ Ry(-π/2) ├─░─┤M├───\n",
       "     └─────────┘│  Rxx(π/2) │├──────────┤└──────────┘ ░ └╥┘┌─┐\n",
       "q_1: ───────────┤1          ├┤ Rx(-π/2) ├─────────────░──╫─┤M├\n",
       "                └───────────┘└──────────┘             ░  ║ └╥┘\n",
       "c: 2/════════════════════════════════════════════════════╩══╩═\n",
       "                                                         0  1 </pre>"
      ],
      "text/plain": [
       "     ┌─────────┐┌───────────┐┌──────────┐┌──────────┐ ░ ┌─┐   \n",
       "q_0: ┤ Ry(π/2) ├┤0          ├┤ Rx(-π/2) ├┤ Ry(-π/2) ├─░─┤M├───\n",
       "     └─────────┘│  Rxx(π/2) │├──────────┤└──────────┘ ░ └╥┘┌─┐\n",
       "q_1: ───────────┤1          ├┤ Rx(-π/2) ├─────────────░──╫─┤M├\n",
       "                └───────────┘└──────────┘             ░  ║ └╥┘\n",
       "c: 2/════════════════════════════════════════════════════╩══╩═\n",
       "                                                         0  1 "
      ]
     },
     "execution_count": 5,
     "metadata": {},
     "output_type": "execute_result"
    }
   ],
   "source": [
    "qc.draw()"
   ]
  },
  {
   "cell_type": "code",
   "execution_count": 6,
   "id": "d72b378a-a4bc-409c-b3fb-fbedd5a85fdd",
   "metadata": {},
   "outputs": [
    {
     "data": {
      "image/png": "[encoded data removed]",
      "text/plain": [
       "<Figure size 504x360 with 1 Axes>"
      ]
     },
     "metadata": {},
     "output_type": "display_data"
    }
   ],
   "source": [
    "shots = 10000 # number of samples used for statistics\n",
    "sim = Aer.get_backend('qasm_simulator')\n",
    "job = execute(qc, backend = sim, shots = shots)\n",
    "display(plot_histogram(job.result().get_counts()))\n"
   ]
  },
  {
   "cell_type": "code",
   "execution_count": 7,
   "id": "20df3fa1-b1d6-4645-aa5c-4daf8f196b4b",
   "metadata": {},
   "outputs": [
    {
     "data": {
      "text/html": [
       "<pre style=\"word-wrap: normal;white-space: pre;background: #fff0;line-height: 1.1;font-family: &quot;Courier New&quot;,Courier,monospace\">           ░ ┌─┐   \n",
       "q_0: ──■───░─┤M├───\n",
       "     ┌─┴─┐ ░ └╥┘┌─┐\n",
       "q_1: ┤ X ├─░──╫─┤M├\n",
       "     └───┘ ░  ║ └╥┘\n",
       "c: 2/═════════╩══╩═\n",
       "              0  1 </pre>"
      ],
      "text/plain": [
       "           ░ ┌─┐   \n",
       "q_0: ──■───░─┤M├───\n",
       "     ┌─┴─┐ ░ └╥┘┌─┐\n",
       "q_1: ┤ X ├─░──╫─┤M├\n",
       "     └───┘ ░  ║ └╥┘\n",
       "c: 2/═════════╩══╩═\n",
       "              0  1 "
      ]
     },
     "execution_count": 7,
     "metadata": {},
     "output_type": "execute_result"
    }
   ],
   "source": [
    "qc1 = QuantumCircuit(2,2)\n",
    "qc1.cnot(0,1)\n",
    "qc1.barrier()\n",
    "qc1.measure(0,0)\n",
    "qc1.measure(1,1)\n",
    "qc1.draw()"
   ]
  },
  {
   "cell_type": "code",
   "execution_count": 8,
   "id": "413f38bc-833f-49b6-b837-47f84f5c8e4c",
   "metadata": {},
   "outputs": [
    {
     "data": {
      "image/png": "[encoded data removed]",
      "text/plain": [
       "<Figure size 504x360 with 1 Axes>"
      ]
     },
     "metadata": {},
     "output_type": "display_data"
    }
   ],
   "source": [
    "shots = 10000 # number of samples used for statistics\n",
    "sim = Aer.get_backend('qasm_simulator')\n",
    "job1 = execute(qc1, backend = sim, shots = shots)\n",
    "display(plot_histogram(job1.result().get_counts()))"
   ]
  },
  {
   "cell_type": "code",
   "execution_count": 9,
   "id": "fcbad0a6-9389-455a-99ab-fb960eb36008",
   "metadata": {},
   "outputs": [
    {
     "data": {
      "text/html": [
       "<pre style=\"word-wrap: normal;white-space: pre;background: #fff0;line-height: 1.1;font-family: &quot;Courier New&quot;,Courier,monospace\">     ┌───┐┌─────────┐┌───────────┐┌──────────┐┌──────────┐ ░ ┌─┐   \n",
       "q_0: ┤ X ├┤ Ry(π/2) ├┤0          ├┤ Rx(-π/2) ├┤ Ry(-π/2) ├─░─┤M├───\n",
       "     └───┘└─────────┘│  Rxx(π/2) │├──────────┤└──────────┘ ░ └╥┘┌─┐\n",
       "q_1: ────────────────┤1          ├┤ Rx(-π/2) ├─────────────░──╫─┤M├\n",
       "                     └───────────┘└──────────┘             ░  ║ └╥┘\n",
       "c: 2/═════════════════════════════════════════════════════════╩══╩═\n",
       "                                                              0  1 </pre>"
      ],
      "text/plain": [
       "     ┌───┐┌─────────┐┌───────────┐┌──────────┐┌──────────┐ ░ ┌─┐   \n",
       "q_0: ┤ X ├┤ Ry(π/2) ├┤0          ├┤ Rx(-π/2) ├┤ Ry(-π/2) ├─░─┤M├───\n",
       "     └───┘└─────────┘│  Rxx(π/2) │├──────────┤└──────────┘ ░ └╥┘┌─┐\n",
       "q_1: ────────────────┤1          ├┤ Rx(-π/2) ├─────────────░──╫─┤M├\n",
       "                     └───────────┘└──────────┘             ░  ║ └╥┘\n",
       "c: 2/═════════════════════════════════════════════════════════╩══╩═\n",
       "                                                              0  1 "
      ]
     },
     "execution_count": 9,
     "metadata": {},
     "output_type": "execute_result"
    }
   ],
   "source": [
    "qc2 = QuantumCircuit(2,2)\n",
    "qc2.x(0)\n",
    "qc2.ry(np.pi/2,0)\n",
    "qc2.rxx(np.pi/2,0,1)\n",
    "qc2.rx(-np.pi/2,0)\n",
    "qc2.rx(-np.pi/2,1)\n",
    "qc2.ry(-np.pi/2,0)\n",
    "qc2.barrier()\n",
    "qc2.measure(0,0)\n",
    "qc2.measure(1,1)\n",
    "qc2.draw()"
   ]
  },
  {
   "cell_type": "code",
   "execution_count": 10,
   "id": "ec35fd33-33c6-431b-bb71-fd2bf0aa23bd",
   "metadata": {},
   "outputs": [
    {
     "data": {
      "image/png": "[encoded data removed]",
      "text/plain": [
       "<Figure size 504x360 with 1 Axes>"
      ]
     },
     "metadata": {},
     "output_type": "display_data"
    }
   ],
   "source": [
    "job2 = execute(qc2, backend = sim, shots = shots)\n",
    "display(plot_histogram(job2.result().get_counts()))"
   ]
  },
  {
   "cell_type": "code",
   "execution_count": 11,
   "id": "224eaf89-53f3-4fcc-bd97-406f74ab1241",
   "metadata": {},
   "outputs": [
    {
     "data": {
      "text/html": [
       "<pre style=\"word-wrap: normal;white-space: pre;background: #fff0;line-height: 1.1;font-family: &quot;Courier New&quot;,Courier,monospace\">     ┌───┐      ░ ┌─┐   \n",
       "q_0: ┤ X ├──■───░─┤M├───\n",
       "     └───┘┌─┴─┐ ░ └╥┘┌─┐\n",
       "q_1: ─────┤ X ├─░──╫─┤M├\n",
       "          └───┘ ░  ║ └╥┘\n",
       "c: 2/══════════════╩══╩═\n",
       "                   0  1 </pre>"
      ],
      "text/plain": [
       "     ┌───┐      ░ ┌─┐   \n",
       "q_0: ┤ X ├──■───░─┤M├───\n",
       "     └───┘┌─┴─┐ ░ └╥┘┌─┐\n",
       "q_1: ─────┤ X ├─░──╫─┤M├\n",
       "          └───┘ ░  ║ └╥┘\n",
       "c: 2/══════════════╩══╩═\n",
       "                   0  1 "
      ]
     },
     "execution_count": 11,
     "metadata": {},
     "output_type": "execute_result"
    }
   ],
   "source": [
    "qc3 = QuantumCircuit(2,2)\n",
    "qc3.x(0)\n",
    "qc3.cnot(0,1)\n",
    "qc3.barrier()\n",
    "qc3.measure(0,0)\n",
    "qc3.measure(1,1)\n",
    "qc3.draw()"
   ]
  },
  {
   "cell_type": "code",
   "execution_count": 14,
   "id": "f5e394c5-49d4-49e0-a066-e94c3a82f832",
   "metadata": {},
   "outputs": [
    {
     "data": {
      "text/html": [
       "<pre style=\"word-wrap: normal;white-space: pre;background: #fff0;line-height: 1.1;font-family: &quot;Courier New&quot;,Courier,monospace\">     ┌─────────┐┌───────────┐┌──────────┐┌──────────┐\n",
       "q_0: ┤ Ry(π/2) ├┤0          ├┤ Rx(-π/2) ├┤ Ry(-π/2) ├\n",
       "     └─────────┘│  Rxx(π/2) │├──────────┤└──────────┘\n",
       "q_1: ───────────┤1          ├┤ Rx(-π/2) ├────────────\n",
       "                └───────────┘└──────────┘            \n",
       "c: 2/════════════════════════════════════════════════\n",
       "                                                     </pre>"
      ],
      "text/plain": [
       "     ┌─────────┐┌───────────┐┌──────────┐┌──────────┐\n",
       "q_0: ┤ Ry(π/2) ├┤0          ├┤ Rx(-π/2) ├┤ Ry(-π/2) ├\n",
       "     └─────────┘│  Rxx(π/2) │├──────────┤└──────────┘\n",
       "q_1: ───────────┤1          ├┤ Rx(-π/2) ├────────────\n",
       "                └───────────┘└──────────┘            \n",
       "c: 2/════════════════════════════════════════════════\n",
       "                                                     "
      ]
     },
     "execution_count": 14,
     "metadata": {},
     "output_type": "execute_result"
    }
   ],
   "source": [
    "qc4 = QuantumCircuit(2,2)\n",
    "qc4.ry(np.pi/2,0)\n",
    "qc4.rxx(np.pi/2,0,1)\n",
    "qc4.rx(-np.pi/2,0)\n",
    "qc4.rx(-np.pi/2,1)\n",
    "qc4.ry(-np.pi/2,0)\n",
    "qc4.draw()"
   ]
  },
  {
   "cell_type": "code",
   "execution_count": 15,
   "id": "9425503a-56b3-4237-86e8-2203dbf76db0",
   "metadata": {},
   "outputs": [],
   "source": [
    "mat = qi.Operator(qc4)"
   ]
  },
  {
   "cell_type": "code",
   "execution_count": 18,
   "id": "8827b2cd-6598-4890-97ff-af9b6bad7398",
   "metadata": {},
   "outputs": [],
   "source": [
    "mat = np.array(mat)"
   ]
  },
  {
   "cell_type": "code",
   "execution_count": 19,
   "id": "af39b022-c478-428d-b02e-f30dfc4aa3cc",
   "metadata": {},
   "outputs": [
    {
     "data": {
      "text/plain": [
       "array([ 7.07106781e-01+7.07106781e-01j,  5.55111512e-17+1.11022302e-16j,\n",
       "        6.16297582e-33+6.16297582e-33j, -7.85046229e-17-7.85046229e-17j])"
      ]
     },
     "execution_count": 19,
     "metadata": {},
     "output_type": "execute_result"
    }
   ],
   "source": [
    "mat[:,0]"
   ]
  },
  {
   "cell_type": "code",
   "execution_count": null,
   "id": "dc505211-06a6-435c-9a53-8e4ef6d213af",
   "metadata": {},
   "outputs": [],
   "source": []
  }
 ],
 "metadata": {
  "kernelspec": {
   "display_name": "Python 3 (ipykernel)",
   "language": "python",
   "name": "python3"
  },
  "language_info": {
   "codemirror_mode": {
    "name": "ipython",
    "version": 3
   },
   "file_extension": ".py",
   "mimetype": "text/x-python",
   "name": "python",
   "nbconvert_exporter": "python",
   "pygments_lexer": "ipython3",
   "version": "3.8.12"
  }
 },
 "nbformat": 4,
 "nbformat_minor": 5
}
