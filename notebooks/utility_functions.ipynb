{
 "cells": [
  {
   "cell_type": "code",
   "execution_count": 1,
   "id": "5ef14693",
   "metadata": {},
   "outputs": [],
   "source": [
    "from qiskit import *\n",
    "from numpy.random import randint, shuffle\n",
    "from qiskit.visualization import plot_histogram, plot_bloch_multivector\n",
    "import numpy as np\n",
    "\n",
    "from qiskit import QuantumCircuit, QuantumRegister, ClassicalRegister\n",
    "from qiskit import Aer, execute, assemble\n",
    "from qiskit.visualization import plot_histogram, plot_bloch_vector\n",
    "from qiskit.visualization import plot_state_qsphere, plot_state_city, plot_bloch_multivector\n",
    "from qiskit.visualization import array_to_latex\n",
    "\n",
    "# numpy for linear algebra stuff\n",
    "import random\n",
    "from numpy.random import randint, shuffle\n",
    "import numpy as np\n",
    "import matplotlib.pyplot as plt\n",
    "\n",
    "# To supress the deprecation warnings\n",
    "import warnings\n",
    "import matplotlib.cbook\n",
    "warnings.filterwarnings(\"ignore\",category=matplotlib.cbook.mplDeprecation)"
   ]
  },
  {
   "cell_type": "code",
   "execution_count": 2,
   "id": "279dedee",
   "metadata": {},
   "outputs": [],
   "source": [
    "def generate_bits(N):\n",
    "    bits = randint(0, 2, N)\n",
    "    return bits"
   ]
  },
  {
   "cell_type": "code",
   "execution_count": 3,
   "id": "178fca41",
   "metadata": {},
   "outputs": [],
   "source": [
    "def encode_message(bits, bases):\n",
    "    message = []\n",
    "    for i in range(len(bits)):\n",
    "        qc = QuantumCircuit(1,1)\n",
    "        if bases[i] == 0: # Prepare qubit in Z-basis\n",
    "            if bits[i] == 0:\n",
    "                pass \n",
    "            else:\n",
    "                qc.x(0)\n",
    "        else: # Prepare qubit in X-basis\n",
    "            if bits[i] == 0:\n",
    "                qc.h(0)\n",
    "            else:\n",
    "                qc.x(0)\n",
    "                qc.h(0)\n",
    "        qc.barrier()\n",
    "        message.append(qc)\n",
    "    return message"
   ]
  },
  {
   "cell_type": "code",
   "execution_count": 4,
   "id": "86de4dc1",
   "metadata": {},
   "outputs": [],
   "source": [
    "def encode_bits(bits, bases):\n",
    "    l = len(bits)\n",
    "    base_circuit = QuantumCircuit(l, l)\n",
    "    for i in range(l):\n",
    "        if bases[i] == 0:\n",
    "            if bits[i] == 1:\n",
    "                base_circuit.x(i)\n",
    "        if bases[i] == 1:\n",
    "            if bits[i] == 0:\n",
    "                base_circuit.h(i)\n",
    "            if bits[i] == 1:\n",
    "                base_circuit.x(i)\n",
    "                base_circuit.h(i)\n",
    "    base_circuit.barrier()\n",
    "    return base_circuit"
   ]
  },
  {
   "cell_type": "code",
   "execution_count": 5,
   "id": "f3d1aa2d",
   "metadata": {},
   "outputs": [],
   "source": [
    "def eavesdropping(qubits, N, ERROR_RATE = 0.5) :\n",
    "#     e = randint((2 * MAX_ERROR_RATE * N) // 100 + 1)\n",
    "#     e = int((2 * MAX_ERROR_RATE * N) // 100) + 1\n",
    "\n",
    "    e = int(ERROR_RATE * N)\n",
    "#     print(\"Eve measures \", e, \" qubits\")\n",
    "    \n",
    "    circ = qubits.copy()\n",
    "    rand_pos = sorted(random.sample(range(N), e))\n",
    "   \n",
    "    #Eve measures selected signal with a randomly chosen basis\n",
    "    eve_bases = [-999]*N\n",
    "    for pos in rand_pos :\n",
    "        random_gate = randint(2)\n",
    "        eve_bases[pos] = random_gate\n",
    "        if random_gate == 0:\n",
    "            circ.measure(pos, pos)\n",
    "        else :\n",
    "            circ.h(pos)\n",
    "            circ.measure(pos, pos)\n",
    "    circ.barrier()\n",
    "    backend = Aer.get_backend('qasm_simulator')\n",
    "    m = execute(circ, backend, shots=1, memory = True).result().get_counts()\n",
    "    bits = [int(ch) for ch in list(m.keys())[0]][::-1]\n",
    "    \n",
    "    return circ, eve_bases"
   ]
  },
  {
   "cell_type": "code",
   "execution_count": 6,
   "id": "3e305add",
   "metadata": {},
   "outputs": [],
   "source": [
    "def received_encode(qubits,N,ERROR_RATE=0.5,Eve=False):\n",
    "    if Eve and ERROR_RATE !=0:\n",
    "        return eavesdropping(qubits, N, ERROR_RATE)\n",
    "    else:\n",
    "        return qubits,[-999]*N"
   ]
  },
  {
   "cell_type": "code",
   "execution_count": 7,
   "id": "10eadf81",
   "metadata": {},
   "outputs": [],
   "source": [
    "def measure_bits(circuit, bases, agreed_base_indices):\n",
    "    backend = Aer.get_backend('qasm_simulator')\n",
    "    for j in range(len(bases)):\n",
    "        if bases[j] == 0:\n",
    "            circuit.measure(j,j)\n",
    "        if bases[j] == 1:\n",
    "            circuit.h(j)\n",
    "            circuit.measure(j,j)\n",
    "    r = execute(circuit, backend, shots=1, memory = True).result().get_counts()\n",
    "    return circuit, [int(ch) for ch in list(r.keys())[0]][::-1]"
   ]
  },
  {
   "cell_type": "code",
   "execution_count": 8,
   "id": "defaea3a",
   "metadata": {},
   "outputs": [],
   "source": [
    "def measure_bits_withsifting(circuit, bases, agreed_base_indices):\n",
    "    backend = Aer.get_backend('qasm_simulator')\n",
    "    for j in range(len(bases)):\n",
    "        if j in agreed_base_indices:\n",
    "            if bases[j] == 0:\n",
    "                circuit.measure(j,j)\n",
    "            if bases[j] == 1:\n",
    "                circuit.h(j)\n",
    "                circuit.measure(j,j)\n",
    "    r = execute(circuit, backend, shots=1, memory = True).result().get_counts()\n",
    "    print(r)\n",
    "    return circuit, [int(ch) for ch in list(r.keys())[0]][::-1]"
   ]
  },
  {
   "cell_type": "code",
   "execution_count": 9,
   "id": "82c91b74",
   "metadata": {},
   "outputs": [],
   "source": [
    "def sifting(alice_bases,bob_bases):\n",
    "    agreed_base_indices = [i for i in range(len(alice_bases)) if alice_bases[i] == bob_bases[i]]\n",
    "    return agreed_base_indices"
   ]
  },
  {
   "cell_type": "code",
   "execution_count": 10,
   "id": "8d8feb88",
   "metadata": {},
   "outputs": [],
   "source": [
    "def qber(alice_bits,bob_bits,agreed_base_indices,frac=0.5):\n",
    "    test_len = int(len(agreed_base_indices)*frac) + 1\n",
    "    test_base_indices = sorted(random.sample(agreed_base_indices,test_len))\n",
    "    \n",
    "    alice_test_bits = []\n",
    "    bob_test_bits = []\n",
    "    for i in test_base_indices:\n",
    "        alice_test_bits.append(alice_bits[i])\n",
    "        bob_test_bits.append(bob_bits[i])\n",
    "    \n",
    "    num_error = len([j for j in range(len(alice_test_bits)) if alice_test_bits[j] != bob_test_bits[j]])\n",
    "    error_rate = num_error / len(alice_test_bits)\n",
    "    \n",
    "    return error_rate, test_base_indices"
   ]
  },
  {
   "cell_type": "code",
   "execution_count": 11,
   "id": "b49d8598",
   "metadata": {},
   "outputs": [],
   "source": [
    "def error_rate(alice_bits,bob_bits):\n",
    "    num_error = len([j for j in range(len(alice_bits)) if alice_bits[j] != bob_bits[j]])\n",
    "    error_rate = num_error / len(alice_bits)\n",
    "    return error_rate"
   ]
  },
  {
   "cell_type": "code",
   "execution_count": null,
   "id": "e67165e8",
   "metadata": {},
   "outputs": [],
   "source": []
  }
 ],
 "metadata": {
  "kernelspec": {
   "display_name": "Python 3 (ipykernel)",
   "language": "python",
   "name": "python3"
  },
  "language_info": {
   "codemirror_mode": {
    "name": "ipython",
    "version": 3
   },
   "file_extension": ".py",
   "mimetype": "text/x-python",
   "name": "python",
   "nbconvert_exporter": "python",
   "pygments_lexer": "ipython3",
   "version": "3.9.9"
  }
 },
 "nbformat": 4,
 "nbformat_minor": 5
}
