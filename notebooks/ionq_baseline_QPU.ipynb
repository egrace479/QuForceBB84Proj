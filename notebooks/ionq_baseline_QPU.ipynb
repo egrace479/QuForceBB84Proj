{
 "cells": [
  {
   "cell_type": "code",
   "execution_count": 1,
   "id": "a7e4b0b3-5482-4a4e-a10b-7a1a9fa2c738",
   "metadata": {},
   "outputs": [],
   "source": [
    "import numpy as np\n",
    "\n",
    "# from qiskit import *\n",
    "# Importing standard Qiskit libraries\n",
    "from qiskit import QuantumCircuit, QuantumRegister, ClassicalRegister\n",
    "from qiskit import IBMQ, Aer, execute, assemble, transpile\n",
    "from qiskit.visualization import plot_histogram, plot_bloch_vector\n",
    "from qiskit.visualization import plot_state_qsphere, plot_state_city, plot_bloch_multivector\n",
    "from qiskit.visualization import array_to_latex\n",
    "import qiskit.quantum_info as qi\n",
    "#from qiskit_ibm_runtime import QiskitRuntimeService\n",
    "from qiskit_ionq import IonQProvider\n",
    "# import gates\n",
    "from qiskit_ionq import GPIGate, GPI2Gate, MSGate\n",
    "from qiskit import Aer, execute, assemble\n",
    "\n",
    "from qiskit_ionq import IonQProvider\n",
    "from qiskit import Aer, execute, assemble\n",
    "\n",
    "#import appropriate circuit constructions\n",
    "from ionq_circuit_constructor import ionq_alice_prepares"
   ]
  },
  {
   "cell_type": "code",
   "execution_count": 2,
   "id": "99eddfc4-6274-47f9-9817-57701363ed11",
   "metadata": {},
   "outputs": [],
   "source": [
    "def ionq_baseline_measurement_prep(qc, basis):\n",
    "    if basis == 'X':\n",
    "        #qc.h(0)\n",
    "        qc.append(GPI2Gate(1/4), [0])\n",
    "        qc.append(GPIGate(0), [0])\n",
    "     \n",
    "    if basis == 'Y':\n",
    "        #qc.rx(np.pi/2, 0)\n",
    "        qc.append(GPI2Gate(0), [0])\n",
    "        \n",
    "    return qc\n",
    "    "
   ]
  },
  {
   "cell_type": "code",
   "execution_count": 3,
   "id": "d156a2d7-67b2-48fe-999a-f1d4c7092ab8",
   "metadata": {},
   "outputs": [],
   "source": [
    "def ionq_baseline_circuit(bitval, basis):\n",
    "    qc = QuantumCircuit(1,1)\n",
    "    \n",
    "    qc = ionq_alice_prepares(qc, bitval, basis)\n",
    "    qc = ionq_baseline_measurement_prep(qc, basis)\n",
    "    \n",
    "    qc.measure(0,0)\n",
    "    \n",
    "    return qc"
   ]
  },
  {
   "cell_type": "code",
   "execution_count": 4,
   "id": "4a20bb57-8a54-4632-a4fd-c0debbe5de77",
   "metadata": {},
   "outputs": [],
   "source": [
    "def ionq_baseline_experiment(bitval, basis, shots):\n",
    "    qc = ionq_baseline_circuit(bitval, basis)\n",
    "    \n",
    "    provider = IonQProvider(\"RmK0yNkCDPmoxCH12uQ4U67lpu9kFgik\")\n",
    "    native_simulator = provider.get_backend(\"ionq_simulator\", gateset=\"native\")\n",
    "    job = native_simulator.run(qc, shots = shots)\n",
    "    \n",
    "    probs = job.get_probabilities()\n",
    "    \n",
    "    return probs\n",
    "    "
   ]
  },
  {
   "cell_type": "markdown",
   "id": "92f83805-4434-4b03-b6bb-e1d09454cfb9",
   "metadata": {},
   "source": [
    "## Simulation Results"
   ]
  },
  {
   "cell_type": "code",
   "execution_count": 5,
   "id": "b82f8947-b6d9-41e4-b0a2-2de736dafa96",
   "metadata": {},
   "outputs": [
    {
     "data": {
      "text/plain": [
       "{'0': 1}"
      ]
     },
     "execution_count": 5,
     "metadata": {},
     "output_type": "execute_result"
    }
   ],
   "source": [
    "# X basis, bitval = 0\n",
    "ionq_baseline_experiment(0, 'X', 1024)"
   ]
  },
  {
   "cell_type": "code",
   "execution_count": 6,
   "id": "bae5f4da-e29b-4a87-ba8e-bdc9f4d749db",
   "metadata": {},
   "outputs": [
    {
     "data": {
      "text/plain": [
       "{'1': 1}"
      ]
     },
     "execution_count": 6,
     "metadata": {},
     "output_type": "execute_result"
    }
   ],
   "source": [
    "# X basis, bitval = 1\n",
    "ionq_baseline_experiment(1, 'X', 1024)"
   ]
  },
  {
   "cell_type": "code",
   "execution_count": 7,
   "id": "16845935-0c99-4b6e-abdd-7e500f71f894",
   "metadata": {},
   "outputs": [
    {
     "data": {
      "text/plain": [
       "{'0': 1}"
      ]
     },
     "execution_count": 7,
     "metadata": {},
     "output_type": "execute_result"
    }
   ],
   "source": [
    "# Y basis, bitval = 0\n",
    "ionq_baseline_experiment(0, 'Y', 1024)"
   ]
  },
  {
   "cell_type": "code",
   "execution_count": 8,
   "id": "739c5a94-e122-49db-b34f-d49af3a8873e",
   "metadata": {},
   "outputs": [
    {
     "data": {
      "text/plain": [
       "{'1': 1}"
      ]
     },
     "execution_count": 8,
     "metadata": {},
     "output_type": "execute_result"
    }
   ],
   "source": [
    "# Y basis, bitval = 1\n",
    "ionq_baseline_experiment(1, 'Y', 1024)"
   ]
  },
  {
   "cell_type": "code",
   "execution_count": 9,
   "id": "efe1fc88-640d-4a80-bc44-ad2c57d60f6f",
   "metadata": {},
   "outputs": [],
   "source": [
    "def ionq_baseline_experiment_QPU(bitval, basis, shots):\n",
    "    qc = ionq_baseline_circuit(bitval, basis)\n",
    "    \n",
    "    provider = IonQProvider(\"RmK0yNkCDPmoxCH12uQ4U67lpu9kFgik\")\n",
    "    ionq = provider.get_backend(\"ionq_qpu\", gateset=\"native\")\n",
    "    job = ionq.run(qc, backend = ionq, shots = shots)\n",
    "    \n",
    "    # Hardik's code\n",
    "    #native_qpu = provider.get_backend(\"ionq_qpu\", gateset=\"native\")\n",
    "    #job = native_qpu.run(qc)\n",
    "    \n",
    "    job_id = job.job_id()    \n",
    "    return qc, job_id"
   ]
  },
  {
   "cell_type": "code",
   "execution_count": 18,
   "id": "87d77e10-78cf-4579-9c88-75f9dcd29f5a",
   "metadata": {},
   "outputs": [],
   "source": [
    "def ionq_baseline_probs_QPU(job_id):\n",
    "    provider = IonQProvider(\"RmK0yNkCDPmoxCH12uQ4U67lpu9kFgik\")\n",
    "    ionq = provider.get_backend(\"ionq_qpu\")\n",
    "    job = ionq.retrieve_job(job_id)\n",
    "    probs = job.get_probabilities()\n",
    "    return probs\n",
    "    "
   ]
  },
  {
   "cell_type": "markdown",
   "id": "533c7e0e-c096-4e0e-b62a-794496b4c288",
   "metadata": {},
   "source": [
    "## QPU Results"
   ]
  },
  {
   "cell_type": "code",
   "execution_count": 12,
   "id": "f58dbd44-a72c-4661-bca1-b2bc2db35867",
   "metadata": {},
   "outputs": [
    {
     "name": "stderr",
     "output_type": "stream",
     "text": [
      "/tmp/ipykernel_15355/2916827727.py:6: UserWarning: Option backend is not used by this backend\n",
      "  job = ionq.run(qc, backend = ionq, shots = shots)\n"
     ]
    },
    {
     "name": "stdout",
     "output_type": "stream",
     "text": [
      "78e63e37-31d6-4bf5-9a2f-a2db6762bc94\n"
     ]
    },
    {
     "data": {
      "text/html": [
       "<pre style=\"word-wrap: normal;white-space: pre;background: #fff0;line-height: 1.1;font-family: &quot;Courier New&quot;,Courier,monospace\">     ┌────────────┐┌────────┐┌────────────┐┌────────┐┌─┐\n",
       "  q: ┤ Gpi2(0.25) ├┤ Gpi(0) ├┤ Gpi2(0.25) ├┤ Gpi(0) ├┤M├\n",
       "     └────────────┘└────────┘└────────────┘└────────┘└╥┘\n",
       "c: 1/═════════════════════════════════════════════════╩═\n",
       "                                                      0 </pre>"
      ],
      "text/plain": [
       "     ┌────────────┐┌────────┐┌────────────┐┌────────┐┌─┐\n",
       "  q: ┤ Gpi2(0.25) ├┤ Gpi(0) ├┤ Gpi2(0.25) ├┤ Gpi(0) ├┤M├\n",
       "     └────────────┘└────────┘└────────────┘└────────┘└╥┘\n",
       "c: 1/═════════════════════════════════════════════════╩═\n",
       "                                                      0 "
      ]
     },
     "execution_count": 12,
     "metadata": {},
     "output_type": "execute_result"
    }
   ],
   "source": [
    "# x basis, bitvval = 0\n",
    "qc, job_id = ionq_baseline_experiment_QPU(0, 'X', 1024)\n",
    "print(job_id)\n",
    "qc.draw()"
   ]
  },
  {
   "cell_type": "code",
   "execution_count": 19,
   "id": "f148c630-7723-48ba-ab37-b560d387cf84",
   "metadata": {},
   "outputs": [],
   "source": [
    "X0probs = ionq_baseline_probs_QPU(job_id)"
   ]
  },
  {
   "cell_type": "code",
   "execution_count": 20,
   "id": "6353c9c9-8850-4bfd-90b3-6524b0de76d3",
   "metadata": {},
   "outputs": [
    {
     "name": "stdout",
     "output_type": "stream",
     "text": [
      "{'0': 0.990234375, '1': 0.009765625}\n"
     ]
    }
   ],
   "source": [
    "print(X0probs)"
   ]
  },
  {
   "cell_type": "code",
   "execution_count": 21,
   "id": "31709f3a-4933-4f60-adf5-4445236224d7",
   "metadata": {},
   "outputs": [
    {
     "name": "stderr",
     "output_type": "stream",
     "text": [
      "/tmp/ipykernel_15355/2916827727.py:6: UserWarning: Option backend is not used by this backend\n",
      "  job = ionq.run(qc, backend = ionq, shots = shots)\n"
     ]
    },
    {
     "name": "stdout",
     "output_type": "stream",
     "text": [
      "f80835bd-2c37-4309-8d2d-8ba21bd5855c\n"
     ]
    },
    {
     "data": {
      "text/html": [
       "<pre style=\"word-wrap: normal;white-space: pre;background: #fff0;line-height: 1.1;font-family: &quot;Courier New&quot;,Courier,monospace\">     ┌────────┐┌────────────┐┌────────┐┌────────────┐┌────────┐┌─┐\n",
       "  q: ┤ Gpi(0) ├┤ Gpi2(0.25) ├┤ Gpi(0) ├┤ Gpi2(0.25) ├┤ Gpi(0) ├┤M├\n",
       "     └────────┘└────────────┘└────────┘└────────────┘└────────┘└╥┘\n",
       "c: 1/═══════════════════════════════════════════════════════════╩═\n",
       "                                                                0 </pre>"
      ],
      "text/plain": [
       "     ┌────────┐┌────────────┐┌────────┐┌────────────┐┌────────┐┌─┐\n",
       "  q: ┤ Gpi(0) ├┤ Gpi2(0.25) ├┤ Gpi(0) ├┤ Gpi2(0.25) ├┤ Gpi(0) ├┤M├\n",
       "     └────────┘└────────────┘└────────┘└────────────┘└────────┘└╥┘\n",
       "c: 1/═══════════════════════════════════════════════════════════╩═\n",
       "                                                                0 "
      ]
     },
     "execution_count": 21,
     "metadata": {},
     "output_type": "execute_result"
    }
   ],
   "source": [
    "# X basis, bitval = 1\n",
    "qc, job_id = ionq_baseline_experiment_QPU(1, 'X', 1024)\n",
    "print(job_id)\n",
    "qc.draw()"
   ]
  },
  {
   "cell_type": "code",
   "execution_count": 22,
   "id": "2f1ce3fb-02f7-4060-80cc-2145a849b892",
   "metadata": {},
   "outputs": [
    {
     "name": "stdout",
     "output_type": "stream",
     "text": [
      "{'0': 0.0146484375, '1': 0.9853515625}\n"
     ]
    }
   ],
   "source": [
    "X1probs = ionq_baseline_probs_QPU(job_id)\n",
    "print(X1probs)"
   ]
  },
  {
   "cell_type": "code",
   "execution_count": 23,
   "id": "b57bf493-7b85-485d-ad0f-c3b9c476610d",
   "metadata": {},
   "outputs": [
    {
     "name": "stderr",
     "output_type": "stream",
     "text": [
      "/tmp/ipykernel_15355/2916827727.py:6: UserWarning: Option backend is not used by this backend\n",
      "  job = ionq.run(qc, backend = ionq, shots = shots)\n"
     ]
    },
    {
     "name": "stdout",
     "output_type": "stream",
     "text": [
      "3a820579-5ecb-4cf2-88b9-89a01d1a7bcd\n"
     ]
    },
    {
     "data": {
      "text/html": [
       "<pre style=\"word-wrap: normal;white-space: pre;background: #fff0;line-height: 1.1;font-family: &quot;Courier New&quot;,Courier,monospace\">     ┌────────────┐┌────────────┐┌─────────┐┌─┐\n",
       "  q: ┤ Gpi2(0.25) ├┤ Gpi(0.125) ├┤ Gpi2(0) ├┤M├\n",
       "     └────────────┘└────────────┘└─────────┘└╥┘\n",
       "c: 1/════════════════════════════════════════╩═\n",
       "                                             0 </pre>"
      ],
      "text/plain": [
       "     ┌────────────┐┌────────────┐┌─────────┐┌─┐\n",
       "  q: ┤ Gpi2(0.25) ├┤ Gpi(0.125) ├┤ Gpi2(0) ├┤M├\n",
       "     └────────────┘└────────────┘└─────────┘└╥┘\n",
       "c: 1/════════════════════════════════════════╩═\n",
       "                                             0 "
      ]
     },
     "execution_count": 23,
     "metadata": {},
     "output_type": "execute_result"
    }
   ],
   "source": [
    "# Y basis, bitval = 0\n",
    "qcY0, job_idY0 = ionq_baseline_experiment_QPU(0, 'Y', 1024)\n",
    "print(job_idY0)\n",
    "qcY0.draw()"
   ]
  },
  {
   "cell_type": "code",
   "execution_count": 24,
   "id": "314b0722-eaa2-402b-b83d-4f47b9ad648c",
   "metadata": {},
   "outputs": [
    {
     "name": "stdout",
     "output_type": "stream",
     "text": [
      "{'0': 0.994140625, '1': 0.005859375}\n"
     ]
    }
   ],
   "source": [
    "Y0probs = ionq_baseline_probs_QPU(job_idY0)\n",
    "print(Y0probs)"
   ]
  },
  {
   "cell_type": "code",
   "execution_count": 25,
   "id": "24d07a6c-3f68-4df8-bf32-6fed157b76a8",
   "metadata": {},
   "outputs": [
    {
     "name": "stderr",
     "output_type": "stream",
     "text": [
      "/tmp/ipykernel_15355/2916827727.py:6: UserWarning: Option backend is not used by this backend\n",
      "  job = ionq.run(qc, backend = ionq, shots = shots)\n"
     ]
    },
    {
     "name": "stdout",
     "output_type": "stream",
     "text": [
      "92c5c2ed-6a95-4cf1-befb-de2e2a863c51\n"
     ]
    },
    {
     "data": {
      "text/html": [
       "<pre style=\"word-wrap: normal;white-space: pre;background: #fff0;line-height: 1.1;font-family: &quot;Courier New&quot;,Courier,monospace\">     ┌────────────┐┌─────────────┐┌─────────┐┌─┐\n",
       "  q: ┤ Gpi2(0.25) ├┤ Gpi(-0.125) ├┤ Gpi2(0) ├┤M├\n",
       "     └────────────┘└─────────────┘└─────────┘└╥┘\n",
       "c: 1/═════════════════════════════════════════╩═\n",
       "                                              0 </pre>"
      ],
      "text/plain": [
       "     ┌────────────┐┌─────────────┐┌─────────┐┌─┐\n",
       "  q: ┤ Gpi2(0.25) ├┤ Gpi(-0.125) ├┤ Gpi2(0) ├┤M├\n",
       "     └────────────┘└─────────────┘└─────────┘└╥┘\n",
       "c: 1/═════════════════════════════════════════╩═\n",
       "                                              0 "
      ]
     },
     "execution_count": 25,
     "metadata": {},
     "output_type": "execute_result"
    }
   ],
   "source": [
    "# Y basis, bitval = 1\n",
    "qcY1, job_idY1 = ionq_baseline_experiment_QPU(1, 'Y', 1024)\n",
    "print(job_idY1)\n",
    "qcY1.draw()"
   ]
  },
  {
   "cell_type": "code",
   "execution_count": 26,
   "id": "3c58c060-7cf5-43ac-99b2-43ca2556a631",
   "metadata": {},
   "outputs": [
    {
     "name": "stdout",
     "output_type": "stream",
     "text": [
      "{'0': 0.005859375, '1': 0.994140625}\n"
     ]
    }
   ],
   "source": [
    "Y1probs = ionq_baseline_probs_QPU(job_idY1)\n",
    "print(Y1probs)"
   ]
  },
  {
   "cell_type": "code",
   "execution_count": null,
   "id": "cbbc0ea3-ec06-409f-8458-6919e09b9d75",
   "metadata": {},
   "outputs": [],
   "source": []
  }
 ],
 "metadata": {
  "kernelspec": {
   "display_name": "Python 3 (ipykernel)",
   "language": "python",
   "name": "python3"
  },
  "language_info": {
   "codemirror_mode": {
    "name": "ipython",
    "version": 3
   },
   "file_extension": ".py",
   "mimetype": "text/x-python",
   "name": "python",
   "nbconvert_exporter": "python",
   "pygments_lexer": "ipython3",
   "version": "3.8.12"
  }
 },
 "nbformat": 4,
 "nbformat_minor": 5
}
