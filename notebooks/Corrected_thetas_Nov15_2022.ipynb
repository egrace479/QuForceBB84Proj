{
 "cells": [
  {
   "cell_type": "code",
   "execution_count": 1,
   "id": "896621b5-13a0-4e0c-b0e4-b636c40aaff6",
   "metadata": {},
   "outputs": [],
   "source": [
    "# from qiskit import *\n",
    "# Importing standard Qiskit libraries\n",
    "from qiskit import QuantumCircuit, QuantumRegister, ClassicalRegister\n",
    "from qiskit import Aer, execute, assemble\n",
    "from qiskit.visualization import plot_histogram, plot_bloch_vector\n",
    "from qiskit.visualization import plot_state_qsphere, plot_state_city, plot_bloch_multivector\n",
    "from qiskit.visualization import array_to_latex\n",
    "import qiskit.quantum_info as qi\n",
    "\n",
    "from qiskit_ionq import IonQProvider\n",
    "# import gates\n",
    "from qiskit_ionq import GPIGate, GPI2Gate, MSGate\n",
    "from qiskit import Aer, execute, assemble\n",
    "\n",
    "# numpy for linear algebra stuff\n",
    "from numpy.random import randint, shuffle\n",
    "import numpy as np\n",
    "import matplotlib.pyplot as plt\n",
    "\n",
    "# To supress the deprecation warnings\n",
    "import warnings\n",
    "import matplotlib.cbook\n",
    "warnings.filterwarnings(\"ignore\",category=matplotlib.cbook.mplDeprecation)\n",
    "#%run utility_functions.ipynb\n",
    "\n",
    "#provider = IonQProvider(\"RmK0yNkCDPmoxCH12uQ4U67lpu9kFgik\")\n",
    "#native_simulator = provider.get_backend(\"ionq_simulator\", gateset=\"native\")"
   ]
  },
  {
   "cell_type": "code",
   "execution_count": 2,
   "id": "e6822829-7932-46a8-bb1f-612031bb1c8c",
   "metadata": {},
   "outputs": [],
   "source": [
    "def fidelities(out000, out001, out010, out011, out100, out101, out110, out111, bitval):\n",
    "    \n",
    "    if bitval == 1:\n",
    "        B = (out001 + out011 + out101 + out111)/1024\n",
    "        E = (out010 + out011 + out110 + out111)/1024\n",
    "        A = (out100 + out101 + out110 + out111)/1024\n",
    "        \n",
    "    if bitval == 0:\n",
    "        B = (out010 + out000 + out110 + out100)/1024\n",
    "        E = (out001 + out000 + out101 + out100)/1024\n",
    "        A = (out000 + out001 + out010 + out011)/1024\n",
    "        \n",
    "    return B,E,A "
   ]
  },
  {
   "cell_type": "code",
   "execution_count": 3,
   "id": "a059f804-5ed9-4369-9c0d-53a267f0ff8e",
   "metadata": {},
   "outputs": [],
   "source": [
    "def alice_prepares(qc, bitval, basis):\n",
    "    if basis == 'X' and bitval == 1: # initial state is |->\n",
    "        qc.x(0)\n",
    "        qc.h(0)\n",
    "        #qc.append(GPIGate(0), [0])\n",
    "        #qc.append(GPI2Gate(1/4), [0])\n",
    "        #qc.append(GPIGate(0), [0])\n",
    "        return qc\n",
    "    if basis == 'X' and bitval == 0: # initial state is |+>\n",
    "        qc.h(0)\n",
    "        #qc.append(GPI2Gate(1/4), [0])\n",
    "        #qc.append(GPIGate(0), [0])\n",
    "        return qc\n",
    "    if basis == 'Y' and bitval == 1: # initial state |-i>\n",
    "        qc.rx(np.pi/2, 0)\n",
    "        #qc.append(GPI2Gate(1/4), [0])\n",
    "        #qc.append(GPIGate(-1/8), [0])\n",
    "        return qc\n",
    "    if basis == 'Y' and bitval == 0: # initial state |+i>\n",
    "        qc.rx(-np.pi/2, 0)\n",
    "        #qc.append(GPI2Gate(1/4), [0])\n",
    "        #qc.append(GPIGate(1/8), [0])\n",
    "        return qc"
   ]
  },
  {
   "cell_type": "code",
   "execution_count": 4,
   "id": "26111378-bcf2-482e-9c05-2de6b14339f8",
   "metadata": {},
   "outputs": [],
   "source": [
    "def measurement_prep(qc, bitval, basis):\n",
    "    \n",
    "    if basis == 'X':\n",
    "        qc.h(0)\n",
    "        qc.h(1)\n",
    "        qc.h(2)\n",
    "    \n",
    "    if basis == 'Y':\n",
    "        qc.rx(np.pi/2, 0)\n",
    "        qc.rx(np.pi/2, 1)\n",
    "        qc.rx(np.pi/2, 2)\n",
    "    \n",
    "    return qc"
   ]
  },
  {
   "cell_type": "code",
   "execution_count": 5,
   "id": "11f5669e-4e56-45f8-b249-ecf7683f3a4b",
   "metadata": {},
   "outputs": [],
   "source": [
    "def run_experiment(theta1, theta2, theta3, bitval, basis):\n",
    "    qc = QuantumCircuit(3,3)\n",
    "    \n",
    "    # Alice prepares her qubit to send\n",
    "    alice_prepares(qc, bitval, basis)\n",
    "    qc.barrier()\n",
    "    \n",
    "    # Eve clones the flying qubit\n",
    "    eve_clones(qc, theta1, theta2, theta3)\n",
    "    \n",
    "    qc.barrier()\n",
    "    # Bob and Eve prepare to measure\n",
    "    measurement_prep(qc, bitval, basis)\n",
    "    \n",
    "    qc.barrier()\n",
    "    \n",
    "    qc.measure(0,0)\n",
    "    qc.measure(1,1)\n",
    "    qc.measure(2,2)\n",
    "    \n",
    "    shots = 1024 # number of samples used for statistics\n",
    "    sim = Aer.get_backend('qasm_simulator')\n",
    "    job = execute(qc, backend = sim, shots = shots)\n",
    "    \n",
    "    out000 = job.result().get_counts().get(\"000\")\n",
    "    out001 = job.result().get_counts().get(\"001\")\n",
    "    out010 = job.result().get_counts().get(\"010\")\n",
    "    out011 = job.result().get_counts().get(\"011\")\n",
    "    out100 = job.result().get_counts().get(\"100\")\n",
    "    out101 = job.result().get_counts().get(\"101\")\n",
    "    out110 = job.result().get_counts().get(\"110\")\n",
    "    out111 = job.result().get_counts().get(\"111\")\n",
    "\n",
    "    if out000 == None:\n",
    "        out000 = 0\n",
    "    if out001 == None:\n",
    "        out001 = 0\n",
    "    if out010 == None:\n",
    "        out010 = 0\n",
    "    if out011 == None:\n",
    "        out011 = 0\n",
    "        \n",
    "    if out100 == None:\n",
    "        out100 = 0\n",
    "    if out101 == None:\n",
    "        out101 = 0\n",
    "    if out110 == None:\n",
    "        out110 = 0\n",
    "    if out111 == None:\n",
    "        out111 = 0\n",
    "        \n",
    "    #print(f\"out000 = {out000}; out001 = {out001}; out010 = {out010}; out011={out011}\")\n",
    "    #print(f\"out100 = {out100}; out101 = {out101}; out110 = {out110}; out111={out111}\")\n",
    "    \n",
    "    b, e, a = fidelities(out000, out001, out010, out011, out100, out101, out110, out111, bitval)\n",
    "    \n",
    "    \n",
    "    #print(f\"Bob = {b}: Eve = {e}: Ancilla = {a}\")\n",
    "    return qc, b, e, a"
   ]
  },
  {
   "cell_type": "code",
   "execution_count": 6,
   "id": "7c55201f-72be-4224-bb10-9780f6e07a0e",
   "metadata": {},
   "outputs": [],
   "source": [
    "def eve_clones(qc, theta1, theta2, theta3):\n",
    "    \n",
    "    qc.ry(2*theta1, 1)\n",
    "    qc.cnot(1,2)\n",
    "    qc.ry(2*theta2,2)\n",
    "    qc.cnot(2,1)\n",
    "    qc.ry(2*theta3, 1)\n",
    "    \n",
    "    qc.cnot(0,1)\n",
    "    qc.cnot(0,2)\n",
    "    qc.cnot(1,0)\n",
    "    qc.cnot(2,0)\n",
    "    \n",
    "    return qc"
   ]
  },
  {
   "cell_type": "code",
   "execution_count": 7,
   "id": "225bff53-975d-499d-a8ef-e1437d2a7aae",
   "metadata": {},
   "outputs": [
    {
     "name": "stdout",
     "output_type": "stream",
     "text": [
      "0.92578125 0.7578125 0.732421875\n"
     ]
    }
   ],
   "source": [
    "qc, b, e, a = run_experiment(np.pi/4, np.pi/6, np.pi/6, 1, 'X')\n",
    "print(b,e,a)"
   ]
  },
  {
   "cell_type": "code",
   "execution_count": 12,
   "id": "2fcca886-f712-49ec-a4d7-d29caaae948c",
   "metadata": {},
   "outputs": [
    {
     "data": {
      "image/png": "[encoded data removed]",
      "text/plain": [
       "<Figure size 432x288 with 1 Axes>"
      ]
     },
     "metadata": {
      "needs_background": "light"
     },
     "output_type": "display_data"
    }
   ],
   "source": [
    "ts = np.linspace(-np.pi/2+0.1, np.pi/2-0.1, 30)\n",
    "B = []\n",
    "E = []\n",
    "A = []\n",
    "for j in range(len(ts)):\n",
    "    qc, b, e, a = run_experiment(np.pi/4, ts[j], ts[j], 1, 'X')\n",
    "    B.append(b)\n",
    "    E.append(e)\n",
    "    A.append(a)\n",
    "\n",
    "B = np.array(B)\n",
    "E = np.array(E)\n",
    "A = np.array(A)\n",
    "\n",
    "A_clone = 0.5*(1 + np.sin(2*ts))\n",
    "B_clone = 0.5*(1 + np.cos(2*ts))\n",
    "\n",
    "plt.figure()\n",
    "plt.plot(ts, B, label = \"Bob\")\n",
    "plt.plot(ts, E, label = \"Eve\")\n",
    "plt.plot(ts, A, label = \"Ancilla\")\n",
    "plt.plot(ts, A_clone, label = \"Aclone\")\n",
    "plt.plot(ts, B_clone, label = \"Bclone\")\n",
    "plt.legend(title=\"Message bit = 1, X basis\")\n",
    "plt.show()"
   ]
  },
  {
   "cell_type": "code",
   "execution_count": 13,
   "id": "c90a6555-d1bd-4497-b349-31e417a2c325",
   "metadata": {},
   "outputs": [
    {
     "name": "stdout",
     "output_type": "stream",
     "text": [
      "0.8525390625 0.845703125 0.7568359375\n"
     ]
    }
   ],
   "source": [
    "# symmetric cloning\n",
    "qc, b, e, a = run_experiment(np.pi/4, np.pi/8, np.pi/8, 1, 'X')\n",
    "print(b,e,a)"
   ]
  },
  {
   "cell_type": "code",
   "execution_count": 14,
   "id": "4ab35f04-54db-409f-9480-c94dd151082f",
   "metadata": {},
   "outputs": [
    {
     "data": {
      "text/plain": [
       "0.8535533905932737"
      ]
     },
     "execution_count": 14,
     "metadata": {},
     "output_type": "execute_result"
    }
   ],
   "source": [
    "# Anticipated fidelity for the symmetric clone\n",
    "0.5 * (1 + np.sqrt(0.5))"
   ]
  },
  {
   "cell_type": "code",
   "execution_count": null,
   "id": "a8c10cdd-af63-4502-a3f5-1ae1deb2258d",
   "metadata": {},
   "outputs": [],
   "source": []
  }
 ],
 "metadata": {
  "kernelspec": {
   "display_name": "Python 3 (ipykernel)",
   "language": "python",
   "name": "python3"
  },
  "language_info": {
   "codemirror_mode": {
    "name": "ipython",
    "version": 3
   },
   "file_extension": ".py",
   "mimetype": "text/x-python",
   "name": "python",
   "nbconvert_exporter": "python",
   "pygments_lexer": "ipython3",
   "version": "3.8.12"
  }
 },
 "nbformat": 4,
 "nbformat_minor": 5
}
