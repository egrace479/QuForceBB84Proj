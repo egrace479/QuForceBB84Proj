{
 "cells": [
  {
   "cell_type": "markdown",
   "id": "78100f3d-6231-46ff-8b03-7f18fdecdea0",
   "metadata": {},
   "source": [
    "**Goal:** Show that the cloning circuit developed in the notes is phase-covariant on equatorial qubits.\n",
    "\n",
    "**Remark on Gates.** I think we can obtain all of the equatorial qubits using the $U$-gate in Qiskit. In particular, all of the equatorial qubits are obtained by $U(\\pi/2,0, \\lambda)$ where we allow $\\lambda \\in [0, 2\\pi]$. To test whether the cloning circuit is phase covariant on equatorial qubits we will use a gate of this form to move to the equator, clone the equatorial qubit, and then invert the unitary to get back to a state that is perturbed slightly from $\\vert 0 \\rangle$. A measurement will then reveal how successful we have been in cloning. (This is analogous to applying the Hadamard gate, the cloning circuit, and the Hadamard gate before measuring; the Hadamard gate is its own inverse.)"
   ]
  },
  {
   "cell_type": "code",
   "execution_count": 1,
   "id": "122e33b9-828c-4eef-82be-ef37268315b6",
   "metadata": {},
   "outputs": [],
   "source": [
    "# from qiskit import *\n",
    "# Importing standard Qiskit libraries\n",
    "from qiskit import QuantumCircuit, QuantumRegister, ClassicalRegister\n",
    "from qiskit import Aer, execute, assemble\n",
    "from qiskit.visualization import plot_histogram, plot_bloch_vector\n",
    "from qiskit.visualization import plot_state_qsphere, plot_state_city, plot_bloch_multivector\n",
    "from qiskit.visualization import array_to_latex\n",
    "\n",
    "# numpy for linear algebra stuff\n",
    "from numpy.random import randint, shuffle\n",
    "import numpy as np\n",
    "import matplotlib.pyplot as plt\n",
    "\n",
    "# To supress the deprecation warnings\n",
    "import warnings\n",
    "import matplotlib.cbook\n",
    "warnings.filterwarnings(\"ignore\",category=matplotlib.cbook.mplDeprecation)\n",
    "#%run utility_functions.ipynb"
   ]
  },
  {
   "cell_type": "code",
   "execution_count": 2,
   "id": "cc4abd5f-7a1a-4968-98fb-2adb05d1ecc4",
   "metadata": {},
   "outputs": [],
   "source": [
    "def Theta2(theta1):\n",
    "    if theta1 <= np.pi/4:\n",
    "        theta2 = 0.5 * np.arccos(np.cos(2*theta1)/np.sin(2*theta1))\n",
    "    if theta1 > np.pi/4:\n",
    "        theta2 = 0.5 * np.arccos(-np.cos(2*theta1)/np.sin(2*theta1))\n",
    "    \n",
    "    return theta2"
   ]
  },
  {
   "cell_type": "code",
   "execution_count": 3,
   "id": "fd5f29cb-c7bd-4faf-b0bc-a7ca32376157",
   "metadata": {},
   "outputs": [],
   "source": [
    "def theta_maker(theta1):\n",
    "    if (theta1 == np.pi/8) or (theta1 == 3*np.pi/8):\n",
    "        theta2 = 0\n",
    "        theta3 = 0\n",
    "        return np.array([theta1, theta2, theta3])\n",
    "    \n",
    "    \n",
    "    etaA = np.sin(2 * theta1)\n",
    "    theta2 = Theta2(theta1)\n",
    "    theta3 = np.arctan(np.tan(theta1) * np.tan(theta2))\n",
    "    theta = np.array([theta1, theta2, theta3])\n",
    "    return theta"
   ]
  },
  {
   "cell_type": "code",
   "execution_count": 4,
   "id": "9c6a7992-7ff6-4282-9045-83959e7ba563",
   "metadata": {},
   "outputs": [],
   "source": [
    "# this is a function that implements the cloning that Eve uses\n",
    "def EveClones(qc, theta1):\n",
    "    # determine optimizing angles\n",
    "    theta = theta_maker(theta1)\n",
    "    \n",
    "    # prepare to clone \n",
    "    qc.u(2*theta[0], 0, 0, 1)\n",
    "    qc.cx(1,2)\n",
    "    qc.u(2*theta[1], 0, 0, 2)\n",
    "    qc.cx(2,1)\n",
    "    qc.u(2*theta[2], 0, 0, 1)\n",
    "    \n",
    "    # execute the cloning component with the input qubit (the 0 qubit here)\n",
    "    qc.cx(0,1)\n",
    "    qc.cx(0,2)\n",
    "    qc.cx(1,0)\n",
    "    qc.cx(2,0)\n",
    "    \n",
    "    qc.barrier()\n",
    "    \n",
    "    return qc"
   ]
  },
  {
   "cell_type": "code",
   "execution_count": 5,
   "id": "2137150c-eaa0-4b19-8143-bc10e1d08c6a",
   "metadata": {},
   "outputs": [],
   "source": [
    "def Phase_Measurements(lam, theta1):\n",
    "    qc = QuantumCircuit(3,2)\n",
    "    \n",
    "    # prepare the 0-qubit\n",
    "    qc.u(np.pi/2, 0, lam, 0)\n",
    "    #qc.h(0)\n",
    "    \n",
    "    qc.barrier()\n",
    "\n",
    "    # Eve prepares her clones\n",
    "    EveClones(qc,theta1)\n",
    "\n",
    "    \n",
    "    qc.u(-np.pi/2, -lam, 0, 0)\n",
    "    qc.measure(0,0)\n",
    "    qc.barrier()\n",
    "\n",
    "    qc.u(-np.pi/2, -lam, 0, 1)\n",
    "    qc.measure(1,1)\n",
    "\n",
    "    shots = 10000 # number of samples used for statistics\n",
    "    sim = Aer.get_backend('qasm_simulator')\n",
    "    job = execute(qc, backend = sim, shots = shots)\n",
    "    \n",
    "    out00 = job.result().get_counts().get(\"00\")\n",
    "    out01 = job.result().get_counts().get(\"01\")\n",
    "    out10 = job.result().get_counts().get(\"10\")\n",
    "    out11 = job.result().get_counts().get(\"11\")\n",
    "    \n",
    "    if out00 == None:\n",
    "        out00 = 0\n",
    "    if out01 == None:\n",
    "        out01 = 0\n",
    "    if out10 == None:\n",
    "        out10 = 0\n",
    "    if out11 == None:\n",
    "        out11 = 0\n",
    "        \n",
    "    Fid_Bob = (out00 + out10)/shots\n",
    "    Fid_Eve = (out00 + out01)/shots\n",
    "    \n",
    "    return Fid_Bob, Fid_Eve"
   ]
  },
  {
   "cell_type": "markdown",
   "id": "6c035be1-c74e-4007-90e4-5c2d1365aec5",
   "metadata": {},
   "source": [
    "**Small Test.** We begin with a test that includes to angles $\\lambda$, just to see that the results are comparable. Here we use $\\theta_{1} = \\frac{\\pi}{4} - 0.1$."
   ]
  },
  {
   "cell_type": "code",
   "execution_count": 6,
   "id": "1d9e3e84-ed28-4bc2-84dc-e6c4aaffc46c",
   "metadata": {},
   "outputs": [],
   "source": [
    "F_bob, F_eve = Phase_Measurements(0, np.pi/4 - 0.1)"
   ]
  },
  {
   "cell_type": "code",
   "execution_count": 7,
   "id": "5b717a03-9299-47fd-8b11-83e110dc6933",
   "metadata": {},
   "outputs": [
    {
     "name": "stdout",
     "output_type": "stream",
     "text": [
      "0.9876 0.5984\n"
     ]
    }
   ],
   "source": [
    "print(F_bob, F_eve)"
   ]
  },
  {
   "cell_type": "code",
   "execution_count": 8,
   "id": "4b02550e-fca0-4e58-be75-b43a3846f51d",
   "metadata": {},
   "outputs": [
    {
     "name": "stdout",
     "output_type": "stream",
     "text": [
      "0.9911 0.6058\n"
     ]
    }
   ],
   "source": [
    "Q_b, Q_e = Phase_Measurements(np.pi/2, np.pi/4 - 0.1)\n",
    "print(Q_b, Q_e)"
   ]
  },
  {
   "cell_type": "markdown",
   "id": "1b5bdb5d-9f3f-4133-84b4-f2dcd350d82a",
   "metadata": {},
   "source": [
    "**A More General Test.** We consider a selection of equatorial qubits, measure the fidelity of the clone for both Bob and Eve, and expect to see lines that are (roughly) horizontal."
   ]
  },
  {
   "cell_type": "code",
   "execution_count": 9,
   "id": "600d9eed-8491-4c12-a2be-f71f85ff8a3d",
   "metadata": {},
   "outputs": [],
   "source": [
    "L = np.linspace(0, 2*np.pi, 100)\n",
    "B = np.zeros(len(L))\n",
    "E = np.zeros(len(L))\n",
    "\n",
    "for j in range(len(L)):\n",
    "    B[j], E[j] = Phase_Measurements(L[j], np.pi/4 - 0.1)\n"
   ]
  },
  {
   "cell_type": "code",
   "execution_count": 10,
   "id": "a0184945-4e5c-48bf-96fa-a2f3aca2d1ac",
   "metadata": {},
   "outputs": [
    {
     "data": {
      "image/png": "[encoded data removed]",
      "text/plain": [
       "<Figure size 432x288 with 1 Axes>"
      ]
     },
     "metadata": {
      "needs_background": "light"
     },
     "output_type": "display_data"
    }
   ],
   "source": [
    "plt.figure()\n",
    "plt.plot(L,B)\n",
    "plt.plot(L,E)\n",
    "plt.ylim([0,1])\n",
    "plt.show()"
   ]
  },
  {
   "cell_type": "markdown",
   "id": "c19d9181-32b8-470b-be97-8db60d154d7f",
   "metadata": {},
   "source": [
    "**Fidelity Calculations.** Here we consider the fidelity that is predicted in the notes with what we find in the experiments using the Qiskit simulators. These experiments do not involve more than one equatorial qubit at a time. Rather, we are interested in the fidelity we obtain when we vary the angle $\\theta_{1}$ in the cloning circuit."
   ]
  },
  {
   "cell_type": "code",
   "execution_count": 11,
   "id": "dad71869-3db6-4570-b637-30046177be0a",
   "metadata": {},
   "outputs": [],
   "source": [
    "T = np.linspace(np.pi/8 + 0.01, 3*np.pi/8 - 0.01, 100)\n",
    "BT = np.zeros(len(T))\n",
    "ET = np.zeros(len(T))\n",
    "\n",
    "for j in range(len(T)):\n",
    "    BT[j], ET[j] = Phase_Measurements(np.pi/2, T[j])\n",
    "    \n",
    "BobFid = 0.5 * (1 + np.sin(2*T))\n",
    "EveFid = 0.5 * (1 + np.abs(np.cos(2 * T)))"
   ]
  },
  {
   "cell_type": "code",
   "execution_count": 12,
   "id": "6a1ab648-b38e-46a9-b7c6-d5a869ceb645",
   "metadata": {},
   "outputs": [
    {
     "data": {
      "image/png": "[encoded data removed]",
      "text/plain": [
       "<Figure size 432x288 with 1 Axes>"
      ]
     },
     "metadata": {
      "needs_background": "light"
     },
     "output_type": "display_data"
    }
   ],
   "source": [
    "plt.figure()\n",
    "plt.plot(T,BT)\n",
    "plt.plot(T,BobFid)\n",
    "plt.ylim([0,1])\n",
    "plt.show()"
   ]
  },
  {
   "cell_type": "markdown",
   "id": "38a682bf-a2ab-4432-a9b5-0b367e84ce61",
   "metadata": {},
   "source": [
    "The preceding plot shows two curves: the blue curve is Bob's actual QBER as we vary the value of $\\theta_{1}$, while the orange curve is the theoretical prediction. The two curves are close near the maximum (at $\\theta_{1} = np.pi/4$) but there's a deviation closer to the endpoint values. Why?"
   ]
  },
  {
   "cell_type": "markdown",
   "id": "c048ce62-ec40-4c8b-9c45-63962670124e",
   "metadata": {},
   "source": [
    "**Fidelity Calculation for Eve.** We have chosen $\\theta_{2}$ to optimize Eve's fidelity. Recall that Eve's fidelity is $F_{E} = \\frac{1}{2}(1 + \\eta_{E})$ and $\\eta_{E} = \\sin(2\\theta_{1}) \\cos(2 \\theta_{2})$. We've selected\n",
    "$$\n",
    "\\theta_{2} = \\frac{1}{2} \\arccos ( \\cot(2 \\theta_{1})).\n",
    "$$\n",
    "This means that\n",
    "$$\n",
    "\\eta_{E} = \\sin(2 \\theta_{1}) \\cot(2 \\theta_{1}) = \\cos(2 \\theta_{1}).\n",
    "$$\n",
    "It's important to remember that the factor $\\eta_{E}$ is nonnegative, meaning that we should actually consider $\\eta_{E} = \\vert \\cos(2 \\theta_{1}) \\vert$."
   ]
  },
  {
   "cell_type": "code",
   "execution_count": 13,
   "id": "ff11205d-8f57-4a4f-8227-e5c647e9fd70",
   "metadata": {},
   "outputs": [
    {
     "data": {
      "image/png": "[encoded data removed]",
      "text/plain": [
       "<Figure size 432x288 with 1 Axes>"
      ]
     },
     "metadata": {
      "needs_background": "light"
     },
     "output_type": "display_data"
    }
   ],
   "source": [
    "plt.figure()\n",
    "plt.plot(T,ET)\n",
    "plt.plot(T,EveFid)\n",
    "plt.ylim([0,1])\n",
    "plt.show()"
   ]
  },
  {
   "cell_type": "markdown",
   "id": "49b8721e-ae84-4fdb-b325-1343201b69f8",
   "metadata": {},
   "source": [
    "**Summary.** The fidelity obtained for Bob differs slightly from what we find in the experiments. The predicted fidelity for Eve seems to be very good."
   ]
  },
  {
   "cell_type": "code",
   "execution_count": 14,
   "id": "450aa5c6-d4c6-446e-be88-a90cbadc59af",
   "metadata": {},
   "outputs": [],
   "source": [
    "BobEta = 2*BT - 1\n",
    "EveEta = np.sqrt(1 - BobEta**2)\n",
    "FidEveEta = 0.5 * (1 + EveEta)"
   ]
  },
  {
   "cell_type": "code",
   "execution_count": 15,
   "id": "872a541c-2563-4e1b-a0ac-37967628239d",
   "metadata": {},
   "outputs": [
    {
     "data": {
      "image/png": "[encoded data removed]",
      "text/plain": [
       "<Figure size 432x288 with 1 Axes>"
      ]
     },
     "metadata": {
      "needs_background": "light"
     },
     "output_type": "display_data"
    }
   ],
   "source": [
    "plt.figure()\n",
    "plt.plot(T,FidEveEta)\n",
    "plt.plot(T, EveFid)\n",
    "plt.plot(T, ET)\n",
    "plt.ylim([0,1])\n",
    "plt.show()"
   ]
  },
  {
   "cell_type": "markdown",
   "id": "faa009e6-add5-42ac-8837-5a7e68ce87bb",
   "metadata": {},
   "source": [
    "This graph actually shows three curves. What appears to be green is the overlap between the theoretical prediction for Eve and the one that we observe directly from the circuit. The blue curve is what we expect based on Bob's results from the circuit. We see that there is a discrepancy again."
   ]
  },
  {
   "cell_type": "code",
   "execution_count": null,
   "id": "09d6e814-5788-43cd-9923-ca1eb089feed",
   "metadata": {},
   "outputs": [],
   "source": []
  }
 ],
 "metadata": {
  "kernelspec": {
   "display_name": "Python 3 (ipykernel)",
   "language": "python",
   "name": "python3"
  },
  "language_info": {
   "codemirror_mode": {
    "name": "ipython",
    "version": 3
   },
   "file_extension": ".py",
   "mimetype": "text/x-python",
   "name": "python",
   "nbconvert_exporter": "python",
   "pygments_lexer": "ipython3",
   "version": "3.8.12"
  }
 },
 "nbformat": 4,
 "nbformat_minor": 5
}
